{
 "cells": [
  {
   "cell_type": "code",
   "execution_count": 2,
   "metadata": {
    "collapsed": true
   },
   "outputs": [],
   "source": [
    "import pandas as pd\n",
    "import matplotlib.pyplot as plt\n",
    "import numpy as py"
   ]
  },
  {
   "cell_type": "code",
   "execution_count": 3,
   "metadata": {},
   "outputs": [
    {
     "name": "stdout",
     "output_type": "stream",
     "text": [
      "C:\\Users\\gli32\\Desktop\n"
     ]
    }
   ],
   "source": [
    "cd C:\\Users\\gli32\\Desktop"
   ]
  },
  {
   "cell_type": "code",
   "execution_count": 109,
   "metadata": {},
   "outputs": [],
   "source": [
    "## import file\n",
    "frame = pd.read_excel('Left eye_LG2200-2008-03-11_13_LG2200-2010-04-27_29_shift=-100-100.xlsx', sheetname='Sheet1')"
   ]
  },
  {
   "cell_type": "code",
   "execution_count": 8,
   "metadata": {},
   "outputs": [
    {
     "data": {
      "image/png": "[encoded data removed]",
      "text/plain": [
       "<matplotlib.figure.Figure at 0x29677874128>"
      ]
     },
     "metadata": {},
     "output_type": "display_data"
    }
   ],
   "source": [
    "##plot distribution graphs\n",
    "\n",
    "m=[frame[a][b] for a in frame.columns for b in frame .index if a==b]\n",
    "n=[frame[a][b] for a in frame.columns for b in frame .index if a!=b]\n",
    "from collections import Counter\n",
    "xa=Counter(m)\n",
    "ya=Counter(n)\n",
    "x1=[i[0] for i in xa.items()]\n",
    "y1=[i[1] for i in xa.items()]\n",
    "plt.bar(x1,y1,width=0.001)\n",
    "x2=[i[0] for i in ya.items()]\n",
    "y2=[i[1] for i in ya.items()]\n",
    "plt.bar(x2,y2,width=0.001)\n",
    "plt.show()"
   ]
  },
  {
   "cell_type": "code",
   "execution_count": 110,
   "metadata": {
    "scrolled": true
   },
   "outputs": [
    {
     "data": {
      "image/png": "[encoded data removed]",
      "text/plain": [
       "<matplotlib.figure.Figure at 0x2967bef5f98>"
      ]
     },
     "metadata": {},
     "output_type": "display_data"
    }
   ],
   "source": [
    "## plot CMC graphs\n",
    "\n",
    "ads=[a for a in frame.columns for b in frame .index if a==b]\n",
    "re={}\n",
    "for ad in m:\n",
    "    row=[a for a in frame[:][ad]]\n",
    "    row=sorted(row)\n",
    "    for i in range(88):\n",
    "        if frame[ad][ad] in row[:i]:\n",
    "            re[i]=re.get(i,0)+1\n",
    "\n",
    "for i,j in re.items():\n",
    "    re[i]=j/21\n",
    "x=list(re.keys())\n",
    "y=list(re.values())\n",
    "x.insert(0,0)\n",
    "y.insert(0,0.1)\n",
    "plt.plot(x,y)\n",
    "plt.show()\n"
   ]
  },
  {
   "cell_type": "code",
   "execution_count": 9,
   "metadata": {
    "collapsed": true
   },
   "outputs": [],
   "source": [
    "def tmr(a,th):\n",
    "    count=0\n",
    "    for i in a:\n",
    "        if i<=th:\n",
    "            count +=1\n",
    "    return count/(len(a)*1.0)\n",
    "        \n",
    "    "
   ]
  },
  {
   "cell_type": "code",
   "execution_count": 10,
   "metadata": {
    "collapsed": true
   },
   "outputs": [],
   "source": [
    "def fmr(b,th):\n",
    "    count=0\n",
    "    for i in b:\n",
    "        if i<=th:\n",
    "            count +=1\n",
    "    return count/(len(b)*1.0)"
   ]
  },
  {
   "cell_type": "code",
   "execution_count": 49,
   "metadata": {
    "collapsed": true
   },
   "outputs": [],
   "source": [
    "##plot ROC graphs\n",
    "\n",
    "m=[frame[a][b] for a in frame.columns for b in frame .index if a==b]\n",
    "n=[frame[a][b] for a in frame.columns for b in frame .index if a!=b]\n",
    "re_a = [tmr(m,i) for i in py.arange(0,1,0.01)]\n",
    "re_b=[fmr(n,i) for i in py.arange(0,1,0.01)]\n",
    "plt.plot(re_b,re_a)\n",
    "\n",
    "plt.show()"
   ]
  }
 ],
 "metadata": {
  "kernelspec": {
   "display_name": "Python 3",
   "language": "python",
   "name": "python3"
  },
  "language_info": {
   "codemirror_mode": {
    "name": "ipython",
    "version": 3
   },
   "file_extension": ".py",
   "mimetype": "text/x-python",
   "name": "python",
   "nbconvert_exporter": "python",
   "pygments_lexer": "ipython3",
   "version": "3.6.1"
  }
 },
 "nbformat": 4,
 "nbformat_minor": 2
}
